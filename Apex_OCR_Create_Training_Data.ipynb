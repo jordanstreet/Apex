{
 "cells": [
  {
   "cell_type": "code",
   "execution_count": 1,
   "metadata": {},
   "outputs": [],
   "source": [
    "# Imports\n",
    "import imageio\n",
    "import matplotlib.pyplot as plt\n",
    "import numpy as np\n",
    "import pickle\n",
    "import os\n",
    "from tqdm.notebook import tqdm"
   ]
  },
  {
   "cell_type": "code",
   "execution_count": 2,
   "metadata": {},
   "outputs": [],
   "source": [
    "# Configure plotting style\n",
    "plt.rcParams['figure.figsize'] = [10, 1]"
   ]
  },
  {
   "cell_type": "code",
   "execution_count": 3,
   "metadata": {},
   "outputs": [],
   "source": [
    "# Constants\n",
    "posCoord   = (50, 60) # 'position' starting coordinates\n",
    "posChars   = 9*3 + 2  # number of 'position' chars\n",
    "angleCoord = (50, 74) # 'angle' starting coordinates\n",
    "angleChars = 6*2 + 1  # number of 'angle' chars (ignoring 3rd angle)\n",
    "velCoord   = (50, 88) # 'velocity' starting coordinates\n",
    "velChars   = 7        # number of 'velocity' chars"
   ]
  },
  {
   "cell_type": "code",
   "execution_count": 4,
   "metadata": {},
   "outputs": [],
   "source": [
    "# Training videos\n",
    "trainingVideos = [\n",
    "    'Gameplay/Noise1_Trim.mp4',\n",
    "    'Gameplay/Noise2_Trim.mp4',\n",
    "    'Gameplay/Noise3_Trim.mp4'\n",
    "]"
   ]
  },
  {
   "cell_type": "code",
   "execution_count": 5,
   "metadata": {},
   "outputs": [],
   "source": [
    "# Extract char image from video frame\n",
    "def getCharImage(frame, pos, N):\n",
    "    # Char properties\n",
    "    charWidth  = 8  # character width\n",
    "    charHeight = 12 # character height\n",
    "    \n",
    "    # Calculate coordinates\n",
    "    xStart = pos[0] + charWidth*N\n",
    "    xStop  = xStart + charWidth\n",
    "    yStart = pos[1]\n",
    "    yStop  = yStart + charHeight\n",
    "    \n",
    "    # Extract image\n",
    "    return frame[yStart:yStop, xStart:xStop]"
   ]
  },
  {
   "cell_type": "code",
   "execution_count": 6,
   "metadata": {},
   "outputs": [],
   "source": [
    "# Load in training data if it exists\n",
    "if os.path.exists('trainingData.db'):\n",
    "    # Load training data\n",
    "    data   = pickle.load(open('trainingData.db', 'rb'))\n",
    "    images = data['images']\n",
    "    labels = data['labels']\n",
    "else:\n",
    "    # Iterate through each training video\n",
    "    images = []\n",
    "    for videoLoc in tqdm(trainingVideos, 'Parsing Training Videos', leave=False):\n",
    "        # Import video\n",
    "        vid = imageio.get_reader(videoLoc, 'ffmpeg')\n",
    "\n",
    "        # Iterate through video frames\n",
    "        # Only use 3 frames per second to ensure variety in training data\n",
    "        nFrames  = vid.count_frames()\n",
    "        frameIdx = np.arange(0, nFrames, 10)\n",
    "        for idx in tqdm(frameIdx, 'Parsing Training Frames', leave=False):\n",
    "            # Get frame\n",
    "            frame = vid.get_data(idx)\n",
    "\n",
    "            # Calculate mean frame\n",
    "            frameMean = np.mean(frame, 2)\n",
    "\n",
    "            # Extract angle data\n",
    "            for i in range(angleChars):\n",
    "                images.append(getCharImage(frameMean, angleCoord, i))\n",
    "\n",
    "    # Save training data\n",
    "    labels = []\n",
    "    data = {\n",
    "        'images': images,\n",
    "        'labels': labels\n",
    "    }\n",
    "    pickle.dump(data, open('trainingData.db', 'wb'))"
   ]
  },
  {
   "cell_type": "code",
   "execution_count": 69,
   "metadata": {},
   "outputs": [],
   "source": [
    "# Label training data\n",
    "groupSize = 30\n",
    "for i in np.arange(len(labels), len(images), groupSize):\n",
    "    # Display image\n",
    "    if i + groupSize > len(images):\n",
    "        nImages = len(images) - i\n",
    "        if nImages == 1:\n",
    "            plt.imshow(images[i])\n",
    "        else:\n",
    "            plt.imshow(np.concatenate(images[i:i + nImages], 1))\n",
    "    else:\n",
    "        nImages = groupSize\n",
    "        plt.imshow(np.concatenate(images[i:i + groupSize], 1))\n",
    "    plt.show()\n",
    "    \n",
    "    # Collect and store label\n",
    "    done = False\n",
    "    while not done:\n",
    "        labelsInput = [char for char in input()]\n",
    "        done = len(labelsInput) == nImages\n",
    "    labels += labelsInput"
   ]
  },
  {
   "cell_type": "code",
   "execution_count": 71,
   "metadata": {},
   "outputs": [],
   "source": [
    "# Save training data\n",
    "data = {\n",
    "    'images': images,\n",
    "    'labels': labels\n",
    "}\n",
    "pickle.dump(data, open('trainingData.db', 'wb'))"
   ]
  }
 ],
 "metadata": {
  "kernelspec": {
   "display_name": "Python 3",
   "language": "python",
   "name": "python3"
  },
  "language_info": {
   "codemirror_mode": {
    "name": "ipython",
    "version": 3
   },
   "file_extension": ".py",
   "mimetype": "text/x-python",
   "name": "python",
   "nbconvert_exporter": "python",
   "pygments_lexer": "ipython3",
   "version": "3.8.5"
  }
 },
 "nbformat": 4,
 "nbformat_minor": 4
}
