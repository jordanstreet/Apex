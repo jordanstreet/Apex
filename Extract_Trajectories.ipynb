{
 "cells": [
  {
   "cell_type": "code",
   "execution_count": 1,
   "metadata": {},
   "outputs": [],
   "source": [
    "# Imports\n",
    "import imageio\n",
    "import numpy as np\n",
    "import pandas as pd\n",
    "import pickle\n",
    "from tqdm.notebook import tqdm\n",
    "import os\n",
    "from scipy.signal import savgol_filter"
   ]
  },
  {
   "cell_type": "code",
   "execution_count": 2,
   "metadata": {},
   "outputs": [],
   "source": [
    "# Constants\n",
    "posCoord   = (50, 60)  # 'position' starting coordinates\n",
    "posChars   = 9*3 + 2   # number of 'position' chars\n",
    "posNums    = 3         # number of 'position' entries\n",
    "angleCoord = (50, 74)  # 'angle' starting coordinates\n",
    "angleChars = 6*2 + 1   # number of 'angle' chars\n",
    "angleNums  = 2         # number of 'angle' entries\n",
    "velCoord   = (50, 88)  # 'velocity' starting coordinates\n",
    "velChars   = 7         # number of 'velocity' chars\n",
    "velNums    = 1         # number of 'velocity' entries\n",
    "dt         = 1 / 29.97 # timestep"
   ]
  },
  {
   "cell_type": "code",
   "execution_count": 3,
   "metadata": {},
   "outputs": [],
   "source": [
    "# Trajectory videos\n",
    "trajectoryVideos = [\n",
    "    'Gameplay/Steady_Dive_0deg_Trim.mp4',\n",
    "    'Gameplay/Steady_Dive_10deg_Trim.mp4',\n",
    "    'Gameplay/Steady_Dive_20deg_Trim.mp4',\n",
    "    'Gameplay/Steady_Dive_30deg_Trim.mp4',\n",
    "    'Gameplay/Steady_Dive_34deg_Trim.mp4',\n",
    "    'Gameplay/Steady_Dive_35deg_Trim.mp4',\n",
    "    'Gameplay/Steady_Dive_36deg_Trim.mp4',\n",
    "    'Gameplay/Steady_Dive_40deg_Trim.mp4',\n",
    "    'Gameplay/Steady_Dive_50deg_Trim.mp4',\n",
    "    'Gameplay/Steady_Dive_60deg_Trim.mp4',\n",
    "    'Gameplay/Steady_Dive_70deg_Trim.mp4',\n",
    "    'Gameplay/Steady_Dive_80deg_Trim.mp4',\n",
    "    'Gameplay/Steady_Dive_90deg_Trim.mp4',\n",
    "    'Gameplay/Dive_Level_1_Trim.mp4',\n",
    "    'Gameplay/Dive_Level_2_Trim.mp4'\n",
    "]"
   ]
  },
  {
   "cell_type": "code",
   "execution_count": 4,
   "metadata": {},
   "outputs": [],
   "source": [
    "# Load in classifier\n",
    "clf = pickle.load(open('apexOCR.db', 'rb'))"
   ]
  },
  {
   "cell_type": "code",
   "execution_count": 5,
   "metadata": {},
   "outputs": [],
   "source": [
    "# Extract char image from video frame\n",
    "def getCharImage(frame, pos, N):\n",
    "    # Char properties\n",
    "    charWidth  = 8  # character width\n",
    "    charHeight = 12 # character height\n",
    "    \n",
    "    # Calculate coordinates\n",
    "    xStart = pos[0] + charWidth*N\n",
    "    xStop  = xStart + charWidth\n",
    "    yStart = pos[1]\n",
    "    yStop  = yStart + charHeight\n",
    "    \n",
    "    # Extract image\n",
    "    return frame[yStart:yStop, xStart:xStop]"
   ]
  },
  {
   "cell_type": "code",
   "execution_count": 6,
   "metadata": {},
   "outputs": [],
   "source": [
    "# Extract data from image\n",
    "def getData(frame, pos, N, M, clf):\n",
    "    # Extract raw chars\n",
    "    chars = ''\n",
    "    for i in range(N):\n",
    "        chars += clf.predict(getCharImage(frame, pos, i).reshape(1,-1))[0]\n",
    "    \n",
    "    # Convert to numbers\n",
    "    return [float(x) for x in chars.split()[0:M]]"
   ]
  },
  {
   "cell_type": "code",
   "execution_count": 7,
   "metadata": {},
   "outputs": [
    {
     "data": {
      "application/vnd.jupyter.widget-view+json": {
       "model_id": "",
       "version_major": 2,
       "version_minor": 0
      },
      "text/plain": [
       "HBox(children=(HTML(value='Parsing Trajectory Videos'), FloatProgress(value=0.0, max=15.0), HTML(value='')))"
      ]
     },
     "metadata": {},
     "output_type": "display_data"
    }
   ],
   "source": [
    "# Iterate through each trajectory video\n",
    "for videoLoc in tqdm(trajectoryVideos, 'Parsing Trajectory Videos', leave=False):\n",
    "    # Import video\n",
    "    vid = imageio.get_reader(videoLoc, 'ffmpeg')\n",
    "\n",
    "    # Iterate through video frames\n",
    "    tNow = 0\n",
    "    t    = []\n",
    "    traj = {\n",
    "        'xPos':  [],\n",
    "        'yPos':  [],\n",
    "        'zPos':  [],\n",
    "        'pitch': [],\n",
    "        'yaw':   [],\n",
    "        'vel':   []\n",
    "    }\n",
    "    for frame in vid:\n",
    "        # Calculate mean frame\n",
    "        frameMean = np.mean(frame, 2)\n",
    "\n",
    "        # Extract data\n",
    "        try:\n",
    "            # Run OCR\n",
    "            posData   = getData(frameMean, posCoord, posChars, posNums, clf)\n",
    "            velData   = getData(frameMean, velCoord, velChars, velNums, clf)\n",
    "            angleData = getData(frameMean, angleCoord, angleChars, angleNums, clf)        \n",
    "            \n",
    "            # Store results\n",
    "            traj['xPos'].append(posData[0])\n",
    "            traj['yPos'].append(posData[1])\n",
    "            traj['zPos'].append(posData[2])\n",
    "            traj['vel'].append(velData[0])\n",
    "            traj['pitch'].append(-angleData[0])\n",
    "            traj['yaw'].append(angleData[1])\n",
    "            t.append(tNow)\n",
    "        except:\n",
    "            pass\n",
    "        \n",
    "        # Increment time\n",
    "        tNow += dt\n",
    "\n",
    "    # Create DataFrame\n",
    "    results = pd.DataFrame(traj, t)\n",
    "    results.index.name = 't'\n",
    "    \n",
    "    # Savgol filter settings\n",
    "    filter_pts = 31\n",
    "    poly_order = 1\n",
    "    dt = results.index.to_series().diff().median()\n",
    "    \n",
    "    # Calculate flight path angle\n",
    "    xVel = savgol_filter(results['xPos'], filter_pts, poly_order, 1, dt)\n",
    "    yVel = savgol_filter(results['yPos'], filter_pts, poly_order, 1, dt)\n",
    "    zVel = savgol_filter(results['zPos'], filter_pts, poly_order, 1, dt)\n",
    "    vel  = np.sqrt(xVel**2 + yVel**2 + zVel**2)\n",
    "    results['gamma'] = np.rad2deg(np.arcsin(zVel / vel))\n",
    "    \n",
    "    # Calculate acceleration\n",
    "    results['acc'] = savgol_filter(results['vel'], filter_pts, poly_order, 1, dt)\n",
    "\n",
    "    # Save results\n",
    "    fileName = os.path.splitext(os.path.split(videoLoc)[1])[0].replace('_Trim','')\n",
    "    if not os.path.isdir('Trajectories'):\n",
    "        os.mkedir('Trajectories')\n",
    "    results.to_csv(os.path.join('Trajectories', fileName + '.csv'))"
   ]
  }
 ],
 "metadata": {
  "kernelspec": {
   "display_name": "Python 3",
   "language": "python",
   "name": "python3"
  },
  "language_info": {
   "codemirror_mode": {
    "name": "ipython",
    "version": 3
   },
   "file_extension": ".py",
   "mimetype": "text/x-python",
   "name": "python",
   "nbconvert_exporter": "python",
   "pygments_lexer": "ipython3",
   "version": "3.8.5"
  }
 },
 "nbformat": 4,
 "nbformat_minor": 4
}
